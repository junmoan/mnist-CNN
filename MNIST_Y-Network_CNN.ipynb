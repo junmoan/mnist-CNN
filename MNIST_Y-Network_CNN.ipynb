{
  "nbformat": 4,
  "nbformat_minor": 0,
  "metadata": {
    "colab": {
      "name": "MNIST_Y-Network_CNN.ipynb",
      "provenance": [],
      "collapsed_sections": []
    },
    "kernelspec": {
      "name": "python3",
      "display_name": "Python 3"
    }
  },
  "cells": [
    {
      "cell_type": "code",
      "metadata": {
        "id": "Rbf_oNi1dR64"
      },
      "source": [
        "# Import the machine learning libraries.\n",
        "from tensorflow.keras.layers import Dense, Dropout, Input\n",
        "from tensorflow.keras.layers import Conv2D, MaxPooling2D\n",
        "from tensorflow.keras.layers import Flatten, concatenate\n",
        "from tensorflow.keras.models import Model\n",
        "from tensorflow.keras.datasets import mnist\n",
        "from tensorflow.keras.utils import to_categorical\n",
        "from tensorflow.keras.utils import plot_model\n",
        "import numpy as np\n",
        "import matplotlib.pyplot as plt"
      ],
      "execution_count": null,
      "outputs": []
    },
    {
      "cell_type": "code",
      "metadata": {
        "id": "oy7g7C_gdl8m"
      },
      "source": [
        "# Load MNIST dataset.\n",
        "(x_train, y_train), (x_test, y_test) = mnist.load_data()"
      ],
      "execution_count": null,
      "outputs": []
    },
    {
      "cell_type": "code",
      "metadata": {
        "id": "-n2gK9jvdqml"
      },
      "source": [
        "# From sparse label to categorical.\n",
        "num_labels = len(np.unique(y_train))\n",
        "y_train = to_categorical(y_train)\n",
        "y_test = to_categorical(y_test)"
      ],
      "execution_count": null,
      "outputs": []
    },
    {
      "cell_type": "code",
      "metadata": {
        "id": "KamoVl4gdtb_"
      },
      "source": [
        "# Reshape and normalize input images.\n",
        "image_size = x_train.shape[1]\n",
        "x_train = np.reshape(x_train,[-1, image_size, image_size, 1])\n",
        "x_test = np.reshape(x_test,[-1, image_size, image_size, 1])\n",
        "x_train = x_train.astype('float32') / 255\n",
        "x_test = x_test.astype('float32') / 255"
      ],
      "execution_count": null,
      "outputs": []
    },
    {
      "cell_type": "code",
      "metadata": {
        "id": "qq04W3YqdxDs"
      },
      "source": [
        "# Network parameters.\n",
        "input_shape = (image_size, image_size, 1)\n",
        "batch_size = 32\n",
        "kernel_size = 3\n",
        "dropout = 0.4\n",
        "n_filters = 32"
      ],
      "execution_count": null,
      "outputs": []
    },
    {
      "cell_type": "code",
      "metadata": {
        "id": "e5XzbX4Ed0bI"
      },
      "source": [
        "# Left branch of Y network.\n",
        "left_inputs = Input(shape=input_shape)\n",
        "x = left_inputs\n",
        "filters = n_filters\n",
        "# 3 layers of Conv2D-Dropout-MaxPooling2D\n",
        "# number of filters doubles after each layer (32-64-128)\n",
        "for i in range(3):\n",
        "    x = Conv2D(filters=filters,\n",
        "               kernel_size=kernel_size,\n",
        "               padding='same',\n",
        "               activation='relu')(x)\n",
        "    x = Dropout(dropout)(x)\n",
        "    x = MaxPooling2D()(x)\n",
        "    filters *= 2\n",
        "\n",
        "# Right branch of Y network.\n",
        "right_inputs = Input(shape=input_shape)\n",
        "y = right_inputs\n",
        "filters = n_filters\n",
        "# 3 layers of Conv2D-Dropout-MaxPooling2D\n",
        "# number of filters doubles after each layer (32-64-128)\n",
        "for i in range(3):\n",
        "    y = Conv2D(filters=filters,\n",
        "               kernel_size=kernel_size,\n",
        "               padding='same',\n",
        "               activation='relu',\n",
        "               dilation_rate=2)(y)\n",
        "    y = Dropout(dropout)(y)\n",
        "    y = MaxPooling2D()(y)\n",
        "    filters *= 2"
      ],
      "execution_count": null,
      "outputs": []
    },
    {
      "cell_type": "code",
      "metadata": {
        "id": "_K6_KUSid6mN"
      },
      "source": [
        "# Merge left and right branches outputs.\n",
        "y = concatenate([x, y])\n",
        "# Feature maps to vector before connecting to Dense.\n",
        "y = Flatten()(y)\n",
        "y = Dropout(dropout)(y)\n",
        "outputs = Dense(num_labels, activation='softmax')(y)"
      ],
      "execution_count": null,
      "outputs": []
    },
    {
      "cell_type": "code",
      "metadata": {
        "id": "30YwHU18d_KK"
      },
      "source": [
        "# Build the model in functional API.\n",
        "model = Model([left_inputs, right_inputs], outputs)"
      ],
      "execution_count": null,
      "outputs": []
    },
    {
      "cell_type": "code",
      "metadata": {
        "colab": {
          "base_uri": "https://localhost:8080/"
        },
        "id": "OdjK8cBKeCDm",
        "outputId": "7b59f8d2-9d3a-48ed-948f-ac326924f137"
      },
      "source": [
        "# Verify the model using graph.\n",
        "# enable this if pydot can be installed\n",
        "# pip install pydot\n",
        "#plot_model(model, to_file='cnn-y-network.png', show_shapes=True)\n",
        "\n",
        "# Verify the model using layer text description.\n",
        "model.summary()"
      ],
      "execution_count": null,
      "outputs": [
        {
          "output_type": "stream",
          "text": [
            "Model: \"functional_5\"\n",
            "__________________________________________________________________________________________________\n",
            "Layer (type)                    Output Shape         Param #     Connected to                     \n",
            "==================================================================================================\n",
            "input_5 (InputLayer)            [(None, 28, 28, 1)]  0                                            \n",
            "__________________________________________________________________________________________________\n",
            "input_6 (InputLayer)            [(None, 28, 28, 1)]  0                                            \n",
            "__________________________________________________________________________________________________\n",
            "conv2d_12 (Conv2D)              (None, 28, 28, 32)   320         input_5[0][0]                    \n",
            "__________________________________________________________________________________________________\n",
            "conv2d_15 (Conv2D)              (None, 28, 28, 32)   320         input_6[0][0]                    \n",
            "__________________________________________________________________________________________________\n",
            "dropout_14 (Dropout)            (None, 28, 28, 32)   0           conv2d_12[0][0]                  \n",
            "__________________________________________________________________________________________________\n",
            "dropout_17 (Dropout)            (None, 28, 28, 32)   0           conv2d_15[0][0]                  \n",
            "__________________________________________________________________________________________________\n",
            "max_pooling2d_12 (MaxPooling2D) (None, 14, 14, 32)   0           dropout_14[0][0]                 \n",
            "__________________________________________________________________________________________________\n",
            "max_pooling2d_15 (MaxPooling2D) (None, 14, 14, 32)   0           dropout_17[0][0]                 \n",
            "__________________________________________________________________________________________________\n",
            "conv2d_13 (Conv2D)              (None, 14, 14, 64)   18496       max_pooling2d_12[0][0]           \n",
            "__________________________________________________________________________________________________\n",
            "conv2d_16 (Conv2D)              (None, 14, 14, 64)   18496       max_pooling2d_15[0][0]           \n",
            "__________________________________________________________________________________________________\n",
            "dropout_15 (Dropout)            (None, 14, 14, 64)   0           conv2d_13[0][0]                  \n",
            "__________________________________________________________________________________________________\n",
            "dropout_18 (Dropout)            (None, 14, 14, 64)   0           conv2d_16[0][0]                  \n",
            "__________________________________________________________________________________________________\n",
            "max_pooling2d_13 (MaxPooling2D) (None, 7, 7, 64)     0           dropout_15[0][0]                 \n",
            "__________________________________________________________________________________________________\n",
            "max_pooling2d_16 (MaxPooling2D) (None, 7, 7, 64)     0           dropout_18[0][0]                 \n",
            "__________________________________________________________________________________________________\n",
            "conv2d_14 (Conv2D)              (None, 7, 7, 128)    73856       max_pooling2d_13[0][0]           \n",
            "__________________________________________________________________________________________________\n",
            "conv2d_17 (Conv2D)              (None, 7, 7, 128)    73856       max_pooling2d_16[0][0]           \n",
            "__________________________________________________________________________________________________\n",
            "dropout_16 (Dropout)            (None, 7, 7, 128)    0           conv2d_14[0][0]                  \n",
            "__________________________________________________________________________________________________\n",
            "dropout_19 (Dropout)            (None, 7, 7, 128)    0           conv2d_17[0][0]                  \n",
            "__________________________________________________________________________________________________\n",
            "max_pooling2d_14 (MaxPooling2D) (None, 3, 3, 128)    0           dropout_16[0][0]                 \n",
            "__________________________________________________________________________________________________\n",
            "max_pooling2d_17 (MaxPooling2D) (None, 3, 3, 128)    0           dropout_19[0][0]                 \n",
            "__________________________________________________________________________________________________\n",
            "concatenate_2 (Concatenate)     (None, 3, 3, 256)    0           max_pooling2d_14[0][0]           \n",
            "                                                                 max_pooling2d_17[0][0]           \n",
            "__________________________________________________________________________________________________\n",
            "flatten_2 (Flatten)             (None, 2304)         0           concatenate_2[0][0]              \n",
            "__________________________________________________________________________________________________\n",
            "dropout_20 (Dropout)            (None, 2304)         0           flatten_2[0][0]                  \n",
            "__________________________________________________________________________________________________\n",
            "dense_2 (Dense)                 (None, 10)           23050       dropout_20[0][0]                 \n",
            "==================================================================================================\n",
            "Total params: 208,394\n",
            "Trainable params: 208,394\n",
            "Non-trainable params: 0\n",
            "__________________________________________________________________________________________________\n"
          ],
          "name": "stdout"
        }
      ]
    },
    {
      "cell_type": "code",
      "metadata": {
        "id": "WFvgw6b-eH9l"
      },
      "source": [
        "# Classifier loss, Adam optimizer, classifier accuracy.\n",
        "model.compile(loss='categorical_crossentropy',\n",
        "              optimizer='adam',\n",
        "              metrics=['accuracy'])"
      ],
      "execution_count": null,
      "outputs": []
    },
    {
      "cell_type": "code",
      "metadata": {
        "colab": {
          "base_uri": "https://localhost:8080/"
        },
        "id": "pP0jaRYseO7C",
        "outputId": "df7c0e6f-ecb3-42fb-a9d6-8073140e283b"
      },
      "source": [
        "# Train the model with input images and labels.\n",
        "history = model.fit([x_train, x_train],\n",
        "          y_train, \n",
        "          validation_data=([x_test, x_test], y_test),\n",
        "          epochs=20,\n",
        "          batch_size=batch_size)"
      ],
      "execution_count": null,
      "outputs": [
        {
          "output_type": "stream",
          "text": [
            "Epoch 1/20\n",
            "1875/1875 [==============================] - 265s 142ms/step - loss: 0.1679 - accuracy: 0.9482 - val_loss: 0.1260 - val_accuracy: 0.9861\n",
            "Epoch 2/20\n",
            "1875/1875 [==============================] - 264s 141ms/step - loss: 0.0649 - accuracy: 0.9799 - val_loss: 0.0744 - val_accuracy: 0.9898\n",
            "Epoch 3/20\n",
            "1875/1875 [==============================] - 264s 141ms/step - loss: 0.0536 - accuracy: 0.9831 - val_loss: 0.0718 - val_accuracy: 0.9926\n",
            "Epoch 4/20\n",
            "1875/1875 [==============================] - 263s 140ms/step - loss: 0.0462 - accuracy: 0.9856 - val_loss: 0.0764 - val_accuracy: 0.9906\n",
            "Epoch 5/20\n",
            "1875/1875 [==============================] - 264s 141ms/step - loss: 0.0419 - accuracy: 0.9867 - val_loss: 0.0553 - val_accuracy: 0.9927\n",
            "Epoch 6/20\n",
            "1875/1875 [==============================] - 263s 140ms/step - loss: 0.0397 - accuracy: 0.9878 - val_loss: 0.0562 - val_accuracy: 0.9916\n",
            "Epoch 7/20\n",
            "1875/1875 [==============================] - 264s 141ms/step - loss: 0.0361 - accuracy: 0.9883 - val_loss: 0.0518 - val_accuracy: 0.9928\n",
            "Epoch 8/20\n",
            "1875/1875 [==============================] - 264s 141ms/step - loss: 0.0359 - accuracy: 0.9888 - val_loss: 0.0475 - val_accuracy: 0.9938\n",
            "Epoch 9/20\n",
            "1875/1875 [==============================] - 264s 141ms/step - loss: 0.0331 - accuracy: 0.9895 - val_loss: 0.0457 - val_accuracy: 0.9934\n",
            "Epoch 10/20\n",
            "1875/1875 [==============================] - 265s 141ms/step - loss: 0.0330 - accuracy: 0.9894 - val_loss: 0.0371 - val_accuracy: 0.9942\n",
            "Epoch 11/20\n",
            "1875/1875 [==============================] - 264s 141ms/step - loss: 0.0323 - accuracy: 0.9900 - val_loss: 0.0389 - val_accuracy: 0.9922\n",
            "Epoch 12/20\n",
            "1875/1875 [==============================] - 264s 141ms/step - loss: 0.0314 - accuracy: 0.9901 - val_loss: 0.0423 - val_accuracy: 0.9936\n",
            "Epoch 13/20\n",
            "1875/1875 [==============================] - 263s 140ms/step - loss: 0.0297 - accuracy: 0.9909 - val_loss: 0.0353 - val_accuracy: 0.9939\n",
            "Epoch 14/20\n",
            "1875/1875 [==============================] - 265s 141ms/step - loss: 0.0320 - accuracy: 0.9905 - val_loss: 0.0387 - val_accuracy: 0.9928\n",
            "Epoch 15/20\n",
            "1875/1875 [==============================] - 264s 141ms/step - loss: 0.0310 - accuracy: 0.9905 - val_loss: 0.0479 - val_accuracy: 0.9937\n",
            "Epoch 16/20\n",
            "1875/1875 [==============================] - 265s 142ms/step - loss: 0.0303 - accuracy: 0.9910 - val_loss: 0.0419 - val_accuracy: 0.9939\n",
            "Epoch 17/20\n",
            "1875/1875 [==============================] - 266s 142ms/step - loss: 0.0301 - accuracy: 0.9910 - val_loss: 0.0347 - val_accuracy: 0.9937\n",
            "Epoch 18/20\n",
            "1875/1875 [==============================] - 266s 142ms/step - loss: 0.0289 - accuracy: 0.9914 - val_loss: 0.0285 - val_accuracy: 0.9950\n",
            "Epoch 19/20\n",
            "1875/1875 [==============================] - 265s 141ms/step - loss: 0.0309 - accuracy: 0.9905 - val_loss: 0.0366 - val_accuracy: 0.9939\n",
            "Epoch 20/20\n",
            "1875/1875 [==============================] - 265s 141ms/step - loss: 0.0272 - accuracy: 0.9919 - val_loss: 0.0277 - val_accuracy: 0.9940\n"
          ],
          "name": "stdout"
        }
      ]
    },
    {
      "cell_type": "code",
      "metadata": {
        "colab": {
          "base_uri": "https://localhost:8080/",
          "height": 573
        },
        "id": "HNmj8aTNeYZQ",
        "outputId": "e14886ad-5f24-4ba5-fd7c-3573d3356d99"
      },
      "source": [
        "# Plot graphs for accuracy.\n",
        "plt.figure(0)\n",
        "plt.plot(history.history['accuracy'], label='training accuracy')\n",
        "plt.plot(history.history['val_accuracy'], label='val accuracy')\n",
        "plt.title('Accuracy')\n",
        "plt.xlabel('epochs')\n",
        "plt.ylabel('accuracy')\n",
        "plt.legend()\n",
        "plt.show()\n",
        "plt.figure(1)\n",
        "plt.plot(history.history['loss'], label='training loss')\n",
        "plt.plot(history.history['val_loss'], label='val loss')\n",
        "plt.title('Loss')\n",
        "plt.xlabel('epochs')\n",
        "plt.ylabel('loss')\n",
        "plt.legend()\n",
        "plt.show()"
      ],
      "execution_count": null,
      "outputs": [
        {
          "output_type": "display_data",
          "data": {
            "image/png": "[encoded data removed]",
            "text/plain": [
              "<Figure size 432x288 with 1 Axes>"
            ]
          },
          "metadata": {
            "tags": [],
            "needs_background": "light"
          }
        },
        {
          "output_type": "display_data",
          "data": {
            "image/png": "[encoded data removed]",
            "text/plain": [
              "<Figure size 432x288 with 1 Axes>"
            ]
          },
          "metadata": {
            "tags": [],
            "needs_background": "light"
          }
        }
      ]
    },
    {
      "cell_type": "code",
      "metadata": {
        "colab": {
          "base_uri": "https://localhost:8080/"
        },
        "id": "EVQyAnxGeRzR",
        "outputId": "d9bbc231-042b-484c-81b7-13bfbefb2d70"
      },
      "source": [
        "# Model accuracy on test dataset.\n",
        "score = model.evaluate([x_test, x_test],\n",
        "                       y_test,\n",
        "                       batch_size=batch_size,\n",
        "                       verbose=0)\n",
        "print(\"\\nTest accuracy: %.1f%%\" % (100.0 * score[1]))"
      ],
      "execution_count": null,
      "outputs": [
        {
          "output_type": "stream",
          "text": [
            "\n",
            "Test accuracy: 99.4%\n"
          ],
          "name": "stdout"
        }
      ]
    }
  ]
}