{
  "nbformat": 4,
  "nbformat_minor": 0,
  "metadata": {
    "colab": {
      "name": "MNIST_Y-Network_CNN.ipynb",
      "provenance": [],
      "collapsed_sections": []
    },
    "kernelspec": {
      "name": "python3",
      "display_name": "Python 3"
    }
  },
  "cells": [
    {
      "cell_type": "code",
      "metadata": {
        "id": "Rbf_oNi1dR64"
      },
      "source": [
        "# Import the machine learning libraries.\n",
        "from tensorflow.keras.layers import Dense, Dropout, Input\n",
        "from tensorflow.keras.layers import Conv2D, MaxPooling2D\n",
        "from tensorflow.keras.layers import Flatten, concatenate\n",
        "from tensorflow.keras.models import Model\n",
        "from tensorflow.keras.datasets import mnist\n",
        "from tensorflow.keras.utils import to_categorical\n",
        "from tensorflow.keras.utils import plot_model\n",
        "import numpy as np\n",
        "import matplotlib.pyplot as plt"
      ],
      "execution_count": 12,
      "outputs": []
    },
    {
      "cell_type": "code",
      "metadata": {
        "id": "oy7g7C_gdl8m"
      },
      "source": [
        "# Load MNIST dataset.\n",
        "(x_train, y_train), (x_test, y_test) = mnist.load_data()"
      ],
      "execution_count": 13,
      "outputs": []
    },
    {
      "cell_type": "code",
      "metadata": {
        "id": "-n2gK9jvdqml"
      },
      "source": [
        "# From sparse label to categorical.\n",
        "num_labels = len(np.unique(y_train))\n",
        "y_train = to_categorical(y_train)\n",
        "y_test = to_categorical(y_test)"
      ],
      "execution_count": 14,
      "outputs": []
    },
    {
      "cell_type": "code",
      "metadata": {
        "id": "KamoVl4gdtb_"
      },
      "source": [
        "# Reshape and normalize input images.\n",
        "image_size = x_train.shape[1]\n",
        "x_train = np.reshape(x_train,[-1, image_size, image_size, 1])\n",
        "x_test = np.reshape(x_test,[-1, image_size, image_size, 1])\n",
        "x_train = x_train.astype('float32') / 255\n",
        "x_test = x_test.astype('float32') / 255"
      ],
      "execution_count": 15,
      "outputs": []
    },
    {
      "cell_type": "code",
      "metadata": {
        "id": "qq04W3YqdxDs"
      },
      "source": [
        "# Network parameters.\n",
        "input_shape = (image_size, image_size, 1)\n",
        "batch_size = 32\n",
        "kernel_size = 3\n",
        "dropout = 0.4\n",
        "n_filters = 32"
      ],
      "execution_count": 16,
      "outputs": []
    },
    {
      "cell_type": "code",
      "metadata": {
        "id": "e5XzbX4Ed0bI"
      },
      "source": [
        "# Left branch of Y network.\n",
        "left_inputs = Input(shape=input_shape)\n",
        "x = left_inputs\n",
        "filters = n_filters\n",
        "# 3 layers of Conv2D-Dropout-MaxPooling2D\n",
        "# number of filters doubles after each layer (32-64-128)\n",
        "for i in range(3):\n",
        "    x = Conv2D(filters=filters,\n",
        "               kernel_size=kernel_size,\n",
        "               padding='same',\n",
        "               activation='relu')(x)\n",
        "    x = Dropout(dropout)(x)\n",
        "    x = MaxPooling2D()(x)\n",
        "    filters *= 2\n",
        "\n",
        "# Right branch of Y network.\n",
        "right_inputs = Input(shape=input_shape)\n",
        "y = right_inputs\n",
        "filters = n_filters\n",
        "# 3 layers of Conv2D-Dropout-MaxPooling2D\n",
        "# number of filters doubles after each layer (32-64-128)\n",
        "for i in range(3):\n",
        "    y = Conv2D(filters=filters,\n",
        "               kernel_size=kernel_size,\n",
        "               padding='same',\n",
        "               activation='relu',\n",
        "               dilation_rate=2)(y)\n",
        "    y = Dropout(dropout)(y)\n",
        "    y = MaxPooling2D()(y)\n",
        "    filters *= 2"
      ],
      "execution_count": 17,
      "outputs": []
    },
    {
      "cell_type": "code",
      "metadata": {
        "id": "_K6_KUSid6mN"
      },
      "source": [
        "# Merge left and right branches outputs.\n",
        "y = concatenate([x, y])\n",
        "# Feature maps to vector before connecting to Dense.\n",
        "y = Flatten()(y)\n",
        "y = Dropout(dropout)(y)\n",
        "outputs = Dense(num_labels, activation='softmax')(y)"
      ],
      "execution_count": 18,
      "outputs": []
    },
    {
      "cell_type": "code",
      "metadata": {
        "id": "30YwHU18d_KK"
      },
      "source": [
        "# Build the model in functional API.\n",
        "model = Model([left_inputs, right_inputs], outputs)"
      ],
      "execution_count": 19,
      "outputs": []
    },
    {
      "cell_type": "code",
      "metadata": {
        "colab": {
          "base_uri": "https://localhost:8080/"
        },
        "id": "OdjK8cBKeCDm",
        "outputId": "ac5950b0-a731-4e9f-bbd3-d2fe51216f50"
      },
      "source": [
        "# Verify the model using graph.\n",
        "# enable this if pydot can be installed\n",
        "# pip install pydot\n",
        "#plot_model(model, to_file='cnn-y-network.png', show_shapes=True)\n",
        "\n",
        "# Verify the model using layer text description.\n",
        "model.summary()"
      ],
      "execution_count": 20,
      "outputs": [
        {
          "output_type": "stream",
          "text": [
            "Model: \"functional_3\"\n",
            "__________________________________________________________________________________________________\n",
            "Layer (type)                    Output Shape         Param #     Connected to                     \n",
            "==================================================================================================\n",
            "input_3 (InputLayer)            [(None, 28, 28, 1)]  0                                            \n",
            "__________________________________________________________________________________________________\n",
            "input_4 (InputLayer)            [(None, 28, 28, 1)]  0                                            \n",
            "__________________________________________________________________________________________________\n",
            "conv2d_6 (Conv2D)               (None, 28, 28, 32)   320         input_3[0][0]                    \n",
            "__________________________________________________________________________________________________\n",
            "conv2d_9 (Conv2D)               (None, 28, 28, 32)   320         input_4[0][0]                    \n",
            "__________________________________________________________________________________________________\n",
            "dropout_7 (Dropout)             (None, 28, 28, 32)   0           conv2d_6[0][0]                   \n",
            "__________________________________________________________________________________________________\n",
            "dropout_10 (Dropout)            (None, 28, 28, 32)   0           conv2d_9[0][0]                   \n",
            "__________________________________________________________________________________________________\n",
            "max_pooling2d_6 (MaxPooling2D)  (None, 14, 14, 32)   0           dropout_7[0][0]                  \n",
            "__________________________________________________________________________________________________\n",
            "max_pooling2d_9 (MaxPooling2D)  (None, 14, 14, 32)   0           dropout_10[0][0]                 \n",
            "__________________________________________________________________________________________________\n",
            "conv2d_7 (Conv2D)               (None, 14, 14, 64)   18496       max_pooling2d_6[0][0]            \n",
            "__________________________________________________________________________________________________\n",
            "conv2d_10 (Conv2D)              (None, 14, 14, 64)   18496       max_pooling2d_9[0][0]            \n",
            "__________________________________________________________________________________________________\n",
            "dropout_8 (Dropout)             (None, 14, 14, 64)   0           conv2d_7[0][0]                   \n",
            "__________________________________________________________________________________________________\n",
            "dropout_11 (Dropout)            (None, 14, 14, 64)   0           conv2d_10[0][0]                  \n",
            "__________________________________________________________________________________________________\n",
            "max_pooling2d_7 (MaxPooling2D)  (None, 7, 7, 64)     0           dropout_8[0][0]                  \n",
            "__________________________________________________________________________________________________\n",
            "max_pooling2d_10 (MaxPooling2D) (None, 7, 7, 64)     0           dropout_11[0][0]                 \n",
            "__________________________________________________________________________________________________\n",
            "conv2d_8 (Conv2D)               (None, 7, 7, 128)    73856       max_pooling2d_7[0][0]            \n",
            "__________________________________________________________________________________________________\n",
            "conv2d_11 (Conv2D)              (None, 7, 7, 128)    73856       max_pooling2d_10[0][0]           \n",
            "__________________________________________________________________________________________________\n",
            "dropout_9 (Dropout)             (None, 7, 7, 128)    0           conv2d_8[0][0]                   \n",
            "__________________________________________________________________________________________________\n",
            "dropout_12 (Dropout)            (None, 7, 7, 128)    0           conv2d_11[0][0]                  \n",
            "__________________________________________________________________________________________________\n",
            "max_pooling2d_8 (MaxPooling2D)  (None, 3, 3, 128)    0           dropout_9[0][0]                  \n",
            "__________________________________________________________________________________________________\n",
            "max_pooling2d_11 (MaxPooling2D) (None, 3, 3, 128)    0           dropout_12[0][0]                 \n",
            "__________________________________________________________________________________________________\n",
            "concatenate_1 (Concatenate)     (None, 3, 3, 256)    0           max_pooling2d_8[0][0]            \n",
            "                                                                 max_pooling2d_11[0][0]           \n",
            "__________________________________________________________________________________________________\n",
            "flatten_1 (Flatten)             (None, 2304)         0           concatenate_1[0][0]              \n",
            "__________________________________________________________________________________________________\n",
            "dropout_13 (Dropout)            (None, 2304)         0           flatten_1[0][0]                  \n",
            "__________________________________________________________________________________________________\n",
            "dense_1 (Dense)                 (None, 10)           23050       dropout_13[0][0]                 \n",
            "==================================================================================================\n",
            "Total params: 208,394\n",
            "Trainable params: 208,394\n",
            "Non-trainable params: 0\n",
            "__________________________________________________________________________________________________\n"
          ],
          "name": "stdout"
        }
      ]
    },
    {
      "cell_type": "code",
      "metadata": {
        "id": "WFvgw6b-eH9l"
      },
      "source": [
        "# Classifier loss, Adam optimizer, classifier accuracy.\n",
        "model.compile(loss='categorical_crossentropy',\n",
        "              optimizer='adam',\n",
        "              metrics=['accuracy'])"
      ],
      "execution_count": 21,
      "outputs": []
    },
    {
      "cell_type": "code",
      "metadata": {
        "colab": {
          "base_uri": "https://localhost:8080/"
        },
        "id": "pP0jaRYseO7C",
        "outputId": "4ede9384-2484-4f51-eb1a-3a431f79052e"
      },
      "source": [
        "# Train the model with input images and labels.\n",
        "history = model.fit([x_train, x_train],\n",
        "          y_train, \n",
        "          validation_data=([x_test, x_test], y_test),\n",
        "          epochs=20,\n",
        "          batch_size=batch_size)"
      ],
      "execution_count": 22,
      "outputs": [
        {
          "output_type": "stream",
          "text": [
            "Epoch 1/20\n",
            "1875/1875 [==============================] - 261s 139ms/step - loss: 0.1721 - accuracy: 0.9453 - val_loss: 0.1691 - val_accuracy: 0.9846\n",
            "Epoch 2/20\n",
            "1875/1875 [==============================] - 268s 143ms/step - loss: 0.0654 - accuracy: 0.9795 - val_loss: 0.0935 - val_accuracy: 0.9893\n",
            "Epoch 3/20\n",
            "1875/1875 [==============================] - 263s 140ms/step - loss: 0.0532 - accuracy: 0.9834 - val_loss: 0.0665 - val_accuracy: 0.9931\n",
            "Epoch 4/20\n",
            "1875/1875 [==============================] - 264s 141ms/step - loss: 0.0470 - accuracy: 0.9856 - val_loss: 0.0728 - val_accuracy: 0.9926\n",
            "Epoch 5/20\n",
            "1875/1875 [==============================] - 264s 141ms/step - loss: 0.0432 - accuracy: 0.9866 - val_loss: 0.0681 - val_accuracy: 0.9933\n",
            "Epoch 6/20\n",
            "1875/1875 [==============================] - 264s 141ms/step - loss: 0.0413 - accuracy: 0.9875 - val_loss: 0.0581 - val_accuracy: 0.9934\n",
            "Epoch 7/20\n",
            "1875/1875 [==============================] - 264s 141ms/step - loss: 0.0366 - accuracy: 0.9887 - val_loss: 0.0413 - val_accuracy: 0.9932\n",
            "Epoch 8/20\n",
            "1875/1875 [==============================] - 266s 142ms/step - loss: 0.0368 - accuracy: 0.9886 - val_loss: 0.0417 - val_accuracy: 0.9945\n",
            "Epoch 9/20\n",
            "1875/1875 [==============================] - 265s 141ms/step - loss: 0.0363 - accuracy: 0.9886 - val_loss: 0.0412 - val_accuracy: 0.9933\n",
            "Epoch 10/20\n",
            "1875/1875 [==============================] - 264s 141ms/step - loss: 0.0342 - accuracy: 0.9896 - val_loss: 0.0453 - val_accuracy: 0.9937\n",
            "Epoch 11/20\n",
            "1875/1875 [==============================] - 266s 142ms/step - loss: 0.0315 - accuracy: 0.9900 - val_loss: 0.0399 - val_accuracy: 0.9934\n",
            "Epoch 12/20\n",
            "1875/1875 [==============================] - 264s 141ms/step - loss: 0.0317 - accuracy: 0.9904 - val_loss: 0.0444 - val_accuracy: 0.9929\n",
            "Epoch 13/20\n",
            "1875/1875 [==============================] - 263s 140ms/step - loss: 0.0312 - accuracy: 0.9904 - val_loss: 0.0453 - val_accuracy: 0.9941\n",
            "Epoch 14/20\n",
            "1875/1875 [==============================] - 263s 140ms/step - loss: 0.0322 - accuracy: 0.9900 - val_loss: 0.0359 - val_accuracy: 0.9931\n",
            "Epoch 15/20\n",
            "1875/1875 [==============================] - 263s 140ms/step - loss: 0.0290 - accuracy: 0.9909 - val_loss: 0.0332 - val_accuracy: 0.9942\n",
            "Epoch 16/20\n",
            "1875/1875 [==============================] - 263s 140ms/step - loss: 0.0287 - accuracy: 0.9908 - val_loss: 0.0270 - val_accuracy: 0.9934\n",
            "Epoch 17/20\n",
            "1875/1875 [==============================] - 264s 141ms/step - loss: 0.0297 - accuracy: 0.9910 - val_loss: 0.0414 - val_accuracy: 0.9925\n",
            "Epoch 18/20\n",
            "1875/1875 [==============================] - 265s 141ms/step - loss: 0.0318 - accuracy: 0.9905 - val_loss: 0.0366 - val_accuracy: 0.9946\n",
            "Epoch 19/20\n",
            "1875/1875 [==============================] - 266s 142ms/step - loss: 0.0279 - accuracy: 0.9918 - val_loss: 0.0264 - val_accuracy: 0.9936\n",
            "Epoch 20/20\n",
            "1875/1875 [==============================] - 265s 142ms/step - loss: 0.0299 - accuracy: 0.9908 - val_loss: 0.0406 - val_accuracy: 0.9921\n"
          ],
          "name": "stdout"
        }
      ]
    },
    {
      "cell_type": "code",
      "metadata": {
        "colab": {
          "base_uri": "https://localhost:8080/",
          "height": 573
        },
        "id": "HNmj8aTNeYZQ",
        "outputId": "dfafd232-9d6b-4d89-f98d-986df2d940a6"
      },
      "source": [
        "# Plot graphs for accuracy.\n",
        "plt.figure(0)\n",
        "plt.plot(history.history['accuracy'], label='training accuracy')\n",
        "plt.plot(history.history['val_accuracy'], label='val accuracy')\n",
        "plt.title('Accuracy')\n",
        "plt.xlabel('epochs')\n",
        "plt.ylabel('accuracy')\n",
        "plt.legend()\n",
        "plt.show()\n",
        "plt.figure(1)\n",
        "plt.plot(history.history['loss'], label='training loss')\n",
        "plt.plot(history.history['val_loss'], label='val loss')\n",
        "plt.title('Loss')\n",
        "plt.xlabel('epochs')\n",
        "plt.ylabel('loss')\n",
        "plt.legend()\n",
        "plt.show()"
      ],
      "execution_count": 23,
      "outputs": [
        {
          "output_type": "display_data",
          "data": {
            "image/png": "[encoded data removed]",
            "text/plain": [
              "<Figure size 432x288 with 1 Axes>"
            ]
          },
          "metadata": {
            "tags": [],
            "needs_background": "light"
          }
        },
        {
          "output_type": "display_data",
          "data": {
            "image/png": "[encoded data removed]",
            "text/plain": [
              "<Figure size 432x288 with 1 Axes>"
            ]
          },
          "metadata": {
            "tags": [],
            "needs_background": "light"
          }
        }
      ]
    },
    {
      "cell_type": "code",
      "metadata": {
        "colab": {
          "base_uri": "https://localhost:8080/"
        },
        "id": "EVQyAnxGeRzR",
        "outputId": "43c88523-b475-42f7-9dd2-84813a010c68"
      },
      "source": [
        "# Model accuracy on test dataset.\n",
        "score = model.evaluate([x_test, x_test],\n",
        "                       y_test,\n",
        "                       batch_size=batch_size,\n",
        "                       verbose=0)\n",
        "print(\"\\nTest accuracy: %.1f%%\" % (100.0 * score[1]))"
      ],
      "execution_count": 24,
      "outputs": [
        {
          "output_type": "stream",
          "text": [
            "\n",
            "Test accuracy: 99.2%\n"
          ],
          "name": "stdout"
        }
      ]
    }
  ]
}
