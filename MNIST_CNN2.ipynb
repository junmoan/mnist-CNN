{
  "nbformat": 4,
  "nbformat_minor": 0,
  "metadata": {
    "colab": {
      "name": "MNIST_CNN2.ipynb",
      "provenance": [],
      "collapsed_sections": []
    },
    "kernelspec": {
      "name": "python3",
      "display_name": "Python 3"
    }
  },
  "cells": [
    {
      "cell_type": "code",
      "metadata": {
        "id": "UrNPf-Vwb-Mp"
      },
      "source": [
        "# Import the machine learning libraries.\n",
        "from tensorflow.keras.layers import Dense, Dropout, Input\n",
        "from tensorflow.keras.layers import Conv2D, MaxPooling2D, Flatten\n",
        "from tensorflow.keras.models import Model\n",
        "from tensorflow.keras.datasets import mnist\n",
        "from tensorflow.keras.utils import to_categorical\n",
        "import numpy as np\n",
        "import matplotlib.pyplot as plt"
      ],
      "execution_count": 10,
      "outputs": []
    },
    {
      "cell_type": "code",
      "metadata": {
        "id": "l-HjoK7qcJhQ"
      },
      "source": [
        "# Load MNIST dataset.\n",
        "(x_train, y_train), (x_test, y_test) = mnist.load_data()"
      ],
      "execution_count": 11,
      "outputs": []
    },
    {
      "cell_type": "code",
      "metadata": {
        "id": "oDq_nE4McNBw"
      },
      "source": [
        "# From sparse label to categorical.\n",
        "num_labels = len(np.unique(y_train))\n",
        "y_train = to_categorical(y_train)\n",
        "y_test = to_categorical(y_test)"
      ],
      "execution_count": 12,
      "outputs": []
    },
    {
      "cell_type": "code",
      "metadata": {
        "id": "EYg6CUp8cQRV"
      },
      "source": [
        "# Reshape and normalize input images.\n",
        "image_size = x_train.shape[1]\n",
        "x_train = np.reshape(x_train,[-1, image_size, image_size, 1])\n",
        "x_test = np.reshape(x_test,[-1, image_size, image_size, 1])\n",
        "x_train = x_train.astype('float32') / 255\n",
        "x_test = x_test.astype('float32') / 255"
      ],
      "execution_count": 13,
      "outputs": []
    },
    {
      "cell_type": "code",
      "metadata": {
        "id": "bNLw4qhKcTbN"
      },
      "source": [
        "# Network parameters.\n",
        "input_shape = (image_size, image_size, 1)\n",
        "batch_size = 128\n",
        "kernel_size = 3\n",
        "filters = 64\n",
        "dropout = 0.3"
      ],
      "execution_count": 14,
      "outputs": []
    },
    {
      "cell_type": "code",
      "metadata": {
        "id": "mnAIPamhcWIF"
      },
      "source": [
        "# Use functional API to build cnn layers.\n",
        "inputs = Input(shape=input_shape)\n",
        "y = Conv2D(filters=filters,\n",
        "           kernel_size=kernel_size,\n",
        "           activation='relu')(inputs)\n",
        "y = MaxPooling2D()(y)\n",
        "y = Conv2D(filters=filters,\n",
        "           kernel_size=kernel_size,\n",
        "           activation='relu')(y)\n",
        "y = MaxPooling2D()(y)\n",
        "y = Conv2D(filters=filters,\n",
        "           kernel_size=kernel_size,\n",
        "           activation='relu')(y)\n",
        "# Image to vector before connecting to dense layer.\n",
        "y = Flatten()(y)\n",
        "# Dropout regularization.\n",
        "y = Dropout(dropout)(y)\n",
        "outputs = Dense(num_labels, activation='softmax')(y)"
      ],
      "execution_count": 15,
      "outputs": []
    },
    {
      "cell_type": "code",
      "metadata": {
        "colab": {
          "base_uri": "https://localhost:8080/"
        },
        "id": "CdYBX2WLcnZp",
        "outputId": "0817b12b-93ef-4ecd-fcfb-a8d7a02d6741"
      },
      "source": [
        "# Build the model by supplying inputs/outputs.\n",
        "model = Model(inputs=inputs, outputs=outputs)\n",
        "# Network model in text.\n",
        "model.summary()"
      ],
      "execution_count": 16,
      "outputs": [
        {
          "output_type": "stream",
          "text": [
            "Model: \"functional_3\"\n",
            "_________________________________________________________________\n",
            "Layer (type)                 Output Shape              Param #   \n",
            "=================================================================\n",
            "input_2 (InputLayer)         [(None, 28, 28, 1)]       0         \n",
            "_________________________________________________________________\n",
            "conv2d_3 (Conv2D)            (None, 26, 26, 64)        640       \n",
            "_________________________________________________________________\n",
            "max_pooling2d_2 (MaxPooling2 (None, 13, 13, 64)        0         \n",
            "_________________________________________________________________\n",
            "conv2d_4 (Conv2D)            (None, 11, 11, 64)        36928     \n",
            "_________________________________________________________________\n",
            "max_pooling2d_3 (MaxPooling2 (None, 5, 5, 64)          0         \n",
            "_________________________________________________________________\n",
            "conv2d_5 (Conv2D)            (None, 3, 3, 64)          36928     \n",
            "_________________________________________________________________\n",
            "flatten_1 (Flatten)          (None, 576)               0         \n",
            "_________________________________________________________________\n",
            "dropout_1 (Dropout)          (None, 576)               0         \n",
            "_________________________________________________________________\n",
            "dense_1 (Dense)              (None, 10)                5770      \n",
            "=================================================================\n",
            "Total params: 80,266\n",
            "Trainable params: 80,266\n",
            "Non-trainable params: 0\n",
            "_________________________________________________________________\n"
          ],
          "name": "stdout"
        }
      ]
    },
    {
      "cell_type": "code",
      "metadata": {
        "id": "3dv1JjxWcr6f"
      },
      "source": [
        "# Classifier loss, Adam optimizer, classifier accuracy.\n",
        "model.compile(loss='categorical_crossentropy',\n",
        "              optimizer='adam',\n",
        "              metrics=['accuracy'])"
      ],
      "execution_count": 17,
      "outputs": []
    },
    {
      "cell_type": "code",
      "metadata": {
        "colab": {
          "base_uri": "https://localhost:8080/"
        },
        "id": "cKwPrnnocvVm",
        "outputId": "14a20897-d023-493f-d7ca-4349bf16587a"
      },
      "source": [
        "# Train the model with input images and labels.\n",
        "history = model.fit(x_train,\n",
        "          y_train,\n",
        "          validation_data=(x_test, y_test),\n",
        "          epochs=20,\n",
        "          batch_size=batch_size)"
      ],
      "execution_count": 18,
      "outputs": [
        {
          "output_type": "stream",
          "text": [
            "Epoch 1/20\n",
            "469/469 [==============================] - 75s 160ms/step - loss: 0.2760 - accuracy: 0.9148 - val_loss: 0.0637 - val_accuracy: 0.9787\n",
            "Epoch 2/20\n",
            "469/469 [==============================] - 75s 159ms/step - loss: 0.0721 - accuracy: 0.9776 - val_loss: 0.0360 - val_accuracy: 0.9874\n",
            "Epoch 3/20\n",
            "469/469 [==============================] - 74s 159ms/step - loss: 0.0500 - accuracy: 0.9839 - val_loss: 0.0299 - val_accuracy: 0.9900\n",
            "Epoch 4/20\n",
            "469/469 [==============================] - 75s 159ms/step - loss: 0.0404 - accuracy: 0.9872 - val_loss: 0.0274 - val_accuracy: 0.9913\n",
            "Epoch 5/20\n",
            "469/469 [==============================] - 80s 171ms/step - loss: 0.0355 - accuracy: 0.9891 - val_loss: 0.0241 - val_accuracy: 0.9924\n",
            "Epoch 6/20\n",
            "469/469 [==============================] - 75s 160ms/step - loss: 0.0294 - accuracy: 0.9905 - val_loss: 0.0257 - val_accuracy: 0.9923\n",
            "Epoch 7/20\n",
            "469/469 [==============================] - 75s 160ms/step - loss: 0.0271 - accuracy: 0.9915 - val_loss: 0.0241 - val_accuracy: 0.9921\n",
            "Epoch 8/20\n",
            "469/469 [==============================] - 75s 160ms/step - loss: 0.0237 - accuracy: 0.9923 - val_loss: 0.0230 - val_accuracy: 0.9924\n",
            "Epoch 9/20\n",
            "469/469 [==============================] - 75s 159ms/step - loss: 0.0213 - accuracy: 0.9930 - val_loss: 0.0246 - val_accuracy: 0.9916\n",
            "Epoch 10/20\n",
            "469/469 [==============================] - 75s 159ms/step - loss: 0.0202 - accuracy: 0.9929 - val_loss: 0.0221 - val_accuracy: 0.9935\n",
            "Epoch 11/20\n",
            "469/469 [==============================] - 75s 159ms/step - loss: 0.0167 - accuracy: 0.9947 - val_loss: 0.0236 - val_accuracy: 0.9928\n",
            "Epoch 12/20\n",
            "469/469 [==============================] - 75s 159ms/step - loss: 0.0157 - accuracy: 0.9947 - val_loss: 0.0228 - val_accuracy: 0.9934\n",
            "Epoch 13/20\n",
            "469/469 [==============================] - 74s 158ms/step - loss: 0.0156 - accuracy: 0.9945 - val_loss: 0.0203 - val_accuracy: 0.9936\n",
            "Epoch 14/20\n",
            "469/469 [==============================] - 74s 158ms/step - loss: 0.0129 - accuracy: 0.9956 - val_loss: 0.0241 - val_accuracy: 0.9935\n",
            "Epoch 15/20\n",
            "469/469 [==============================] - 74s 157ms/step - loss: 0.0123 - accuracy: 0.9957 - val_loss: 0.0214 - val_accuracy: 0.9937\n",
            "Epoch 16/20\n",
            "469/469 [==============================] - 74s 158ms/step - loss: 0.0117 - accuracy: 0.9960 - val_loss: 0.0220 - val_accuracy: 0.9936\n",
            "Epoch 17/20\n",
            "469/469 [==============================] - 74s 159ms/step - loss: 0.0111 - accuracy: 0.9962 - val_loss: 0.0252 - val_accuracy: 0.9934\n",
            "Epoch 18/20\n",
            "469/469 [==============================] - 74s 158ms/step - loss: 0.0099 - accuracy: 0.9964 - val_loss: 0.0279 - val_accuracy: 0.9936\n",
            "Epoch 19/20\n",
            "469/469 [==============================] - 74s 158ms/step - loss: 0.0110 - accuracy: 0.9966 - val_loss: 0.0225 - val_accuracy: 0.9931\n",
            "Epoch 20/20\n",
            "469/469 [==============================] - 74s 158ms/step - loss: 0.0090 - accuracy: 0.9970 - val_loss: 0.0239 - val_accuracy: 0.9934\n"
          ],
          "name": "stdout"
        }
      ]
    },
    {
      "cell_type": "code",
      "metadata": {
        "colab": {
          "base_uri": "https://localhost:8080/",
          "height": 573
        },
        "id": "dEsG9x59c8Wf",
        "outputId": "fc35d4b3-e990-4378-b99d-2b98cfeed642"
      },
      "source": [
        "# Plot graphs for accuracy.\n",
        "plt.figure(0)\n",
        "plt.plot(history.history['accuracy'], label='training accuracy')\n",
        "plt.plot(history.history['val_accuracy'], label='val accuracy')\n",
        "plt.title('Accuracy')\n",
        "plt.xlabel('epochs')\n",
        "plt.ylabel('accuracy')\n",
        "plt.legend()\n",
        "plt.show()\n",
        "plt.figure(1)\n",
        "plt.plot(history.history['loss'], label='training loss')\n",
        "plt.plot(history.history['val_loss'], label='val loss')\n",
        "plt.title('Loss')\n",
        "plt.xlabel('epochs')\n",
        "plt.ylabel('loss')\n",
        "plt.legend()\n",
        "plt.show()"
      ],
      "execution_count": 19,
      "outputs": [
        {
          "output_type": "display_data",
          "data": {
            "image/png": "[encoded data removed]",
            "text/plain": [
              "<Figure size 432x288 with 1 Axes>"
            ]
          },
          "metadata": {
            "tags": [],
            "needs_background": "light"
          }
        },
        {
          "output_type": "display_data",
          "data": {
            "image/png": "[encoded data removed]",
            "text/plain": [
              "<Figure size 432x288 with 1 Axes>"
            ]
          },
          "metadata": {
            "tags": [],
            "needs_background": "light"
          }
        }
      ]
    },
    {
      "cell_type": "code",
      "metadata": {
        "colab": {
          "base_uri": "https://localhost:8080/"
        },
        "id": "LNNtOhpocyc5",
        "outputId": "318b40ea-bf96-4e7e-cb17-63d6dc83ea93"
      },
      "source": [
        "# model accuracy on test dataset\n",
        "score = model.evaluate(x_test,\n",
        "                       y_test,\n",
        "                       batch_size=batch_size,\n",
        "                       verbose=0)\n",
        "print(\"\\nTest accuracy: %.1f%%\" % (100.0 * score[1]))"
      ],
      "execution_count": 20,
      "outputs": [
        {
          "output_type": "stream",
          "text": [
            "\n",
            "Test accuracy: 99.3%\n"
          ],
          "name": "stdout"
        }
      ]
    }
  ]
}